{
  "nbformat": 4,
  "nbformat_minor": 0,
  "metadata": {
    "colab": {
      "provenance": [],
      "toc_visible": true,
      "mount_file_id": "1M2dP1g-WUqUIbioFviVnsTlXdSyt-UX_",
      "authorship_tag": "ABX9TyOw6aQIc/lQBNx5xtuz01Rp",
      "include_colab_link": true
    },
    "kernelspec": {
      "name": "python3",
      "display_name": "Python 3"
    },
    "language_info": {
      "name": "python"
    }
  },
  "cells": [
    {
      "cell_type": "markdown",
      "metadata": {
        "id": "view-in-github",
        "colab_type": "text"
      },
      "source": [
        "<a href=\"https://colab.research.google.com/github/cristobalgonzalezdiaz/clab-edu-dev-python/blob/main/validacion.ipynb\" target=\"_parent\"><img src=\"https://colab.research.google.com/assets/colab-badge.svg\" alt=\"Open In Colab\"/></a>"
      ]
    },
    {
      "cell_type": "code",
      "source": [
        "from google.colab import drive\n",
        "drive.mount('/content/drive')\n",
        "\n",
        "# Crear un enlace simbólico para acortar la ruta\n",
        "!ln -s \"/content/drive/MyDrive/02-work/01-cristobal-lab/04-projects/Patricia/data\" \"/content/data\""
      ],
      "metadata": {
        "colab": {
          "base_uri": "https://localhost:8080/"
        },
        "id": "ucJ1MgEvwy0b",
        "outputId": "11a7ec68-498b-424c-974d-21c6dc516058"
      },
      "execution_count": 2,
      "outputs": [
        {
          "output_type": "stream",
          "name": "stdout",
          "text": [
            "Drive already mounted at /content/drive; to attempt to forcibly remount, call drive.mount(\"/content/drive\", force_remount=True).\n"
          ]
        }
      ]
    },
    {
      "cell_type": "code",
      "execution_count": null,
      "metadata": {
        "id": "0JuA0nAdkfsu"
      },
      "outputs": [],
      "source": [
        "# Importar bibliotecas\n",
        "import pandas as pd\n",
        "import numpy as np\n",
        "\n",
        "# Cargar archivos\n",
        "#df_acepta = pd.read_excel('Acepta.xls')\n",
        "#df_facturas = pd.read_excel('FACTURAS REVISADAS.xlsx')\n",
        "#df_sigfe = pd.read_excel('Sigfe.xlx')\n",
        "df_sii = pd.read_csv('SII.csv')\n",
        "\n",
        "# Realizar análisis y cruzar información\n",
        "# Aquí puede incluir su lógica de negocio y análisis de datos\n",
        "# Por ejemplo, unir dos dataframes por una columna común\n",
        "merged_df = pd.merge(df_acepta, df_facturas, on='ID', how='inner')\n",
        "\n",
        "# Realizar cálculos adicionales\n",
        "# ...\n",
        "\n",
        "# Generar archivo XLS con la información analizada\n",
        "with pd.ExcelWriter('Analisis_Financiero.xls') as writer:\n",
        "    df_acepta.to_excel(writer, sheet_name='Acepta')\n",
        "    df_facturas.to_excel(writer, sheet_name='Facturas')\n",
        "    df_sigfe.to_excel(writer, sheet_name='Sigfe')\n",
        "    df_sii.to_excel(writer, sheet_name='SII')\n",
        "    merged_df.to_excel(writer, sheet_name='Analisis')"
      ]
    }
  ]
}